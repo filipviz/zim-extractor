{
 "cells": [
  {
   "cell_type": "code",
   "execution_count": null,
   "metadata": {},
   "outputs": [],
   "source": [
    "from libzim.reader import Archive\n",
    "from trafilatura import extract\n",
    "import sys\n",
    "\n",
    "try:\n",
    "    a = Archive(\"/Users/f/Downloads/wikipedia_en_history_maxi_2024-05.zim\")\n",
    "    # a = Archive(\"/Users/f/Downloads/archlinux_en_all_maxi_2022-12.zim\")\n",
    "    # a = Archive(\"/Users/f/Downloads/unix.stackexchange.com_en_all_2024-05.zim\")\n",
    "    print(a.entry_count)\n",
    "except Exception as e:\n",
    "    print(f\"Error: {e}\")\n",
    "    sys.exit(0)\n"
   ]
  },
  {
   "cell_type": "markdown",
   "metadata": {},
   "source": [
    "- Looks like most actual content is in \\<p\\> or \\<span\\> elements. We might get better results filtering for those alone.\n",
    "- There are a few useful \\<table\\> and \\<list\\> elements.\n",
    "- Annotating by title may be useful.\n",
    "\n",
    "TITLE - SECTION - SUBSECTION:\n",
    "\n",
    "CONTENT"
   ]
  },
  {
   "cell_type": "code",
   "execution_count": null,
   "metadata": {},
   "outputs": [],
   "source": [
    "import random\n",
    "\n",
    "# i = int(random.random() * a.entry_count)\n",
    "i = 890"
   ]
  },
  {
   "cell_type": "code",
   "execution_count": null,
   "metadata": {},
   "outputs": [],
   "source": [
    "from xml.dom.minidom import parseString\n",
    "from xmlproc import process_xml_content\n",
    "\n",
    "prune_xpath = \"\"\n",
    "\n",
    "while i <= 898:\n",
    "    entry = a._get_entry_by_id(i)\n",
    "    item = entry.get_item()\n",
    "    print(item.title)\n",
    "    i += 1\n",
    "    \n",
    "    if item.mimetype != \"text/html\":\n",
    "        # print(f\"Skipping {item.title} ({item.mimetype})\")\n",
    "        continue\n",
    "\n",
    "    content = bytes(item.content).decode(\"UTF-8\")\n",
    "            \n",
    "    # Extract the contents.\n",
    "    result = extract(content, favor_precision=False, output_format=\"xml\", deduplicate=True)\n",
    "    if result:\n",
    "        print(result)\n",
    "    else:\n",
    "        print(\"No result\")\n",
    "    # break\n",
    "\n"
   ]
  },
  {
   "cell_type": "code",
   "execution_count": null,
   "metadata": {},
   "outputs": [],
   "source": []
  }
 ],
 "metadata": {
  "kernelspec": {
   "display_name": "zim-extractor",
   "language": "python",
   "name": "python3"
  },
  "language_info": {
   "codemirror_mode": {
    "name": "ipython",
    "version": 3
   },
   "file_extension": ".py",
   "mimetype": "text/x-python",
   "name": "python",
   "nbconvert_exporter": "python",
   "pygments_lexer": "ipython3",
   "version": "3.12.2"
  }
 },
 "nbformat": 4,
 "nbformat_minor": 2
}
